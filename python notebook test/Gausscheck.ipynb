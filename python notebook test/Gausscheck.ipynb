{
  "nbformat": 4,
  "nbformat_minor": 0,
  "metadata": {
    "colab": {
      "provenance": []
    },
    "kernelspec": {
      "name": "python3",
      "display_name": "Python 3"
    },
    "language_info": {
      "name": "python"
    }
  },
  "cells": [
    {
      "cell_type": "code",
      "execution_count": 1,
      "metadata": {
        "colab": {
          "base_uri": "https://localhost:8080/",
          "height": 839
        },
        "id": "PckSamXXj1dS",
        "outputId": "2d91d741-5b21-4c9b-8dbc-e6e334411292"
      },
      "outputs": [
        {
          "output_type": "display_data",
          "data": {
            "text/plain": [
              "<Figure size 640x480 with 1 Axes>"
            ],
            "image/png": "[encoded data removed]"
          },
          "metadata": {}
        },
        {
          "output_type": "display_data",
          "data": {
            "text/plain": [
              "<Figure size 640x480 with 1 Axes>"
            ],
            "image/png": "[encoded data removed]"
          },
          "metadata": {}
        },
        {
          "output_type": "display_data",
          "data": {
            "text/plain": [
              "<IPython.core.display.Javascript object>"
            ],
            "application/javascript": [
              "\n",
              "    async function download(id, filename, size) {\n",
              "      if (!google.colab.kernel.accessAllowed) {\n",
              "        return;\n",
              "      }\n",
              "      const div = document.createElement('div');\n",
              "      const label = document.createElement('label');\n",
              "      label.textContent = `Downloading \"${filename}\": `;\n",
              "      div.appendChild(label);\n",
              "      const progress = document.createElement('progress');\n",
              "      progress.max = size;\n",
              "      div.appendChild(progress);\n",
              "      document.body.appendChild(div);\n",
              "\n",
              "      const buffers = [];\n",
              "      let downloaded = 0;\n",
              "\n",
              "      const channel = await google.colab.kernel.comms.open(id);\n",
              "      // Send a message to notify the kernel that we're ready.\n",
              "      channel.send({})\n",
              "\n",
              "      for await (const message of channel.messages) {\n",
              "        // Send a message to notify the kernel that we're ready.\n",
              "        channel.send({})\n",
              "        if (message.buffers) {\n",
              "          for (const buffer of message.buffers) {\n",
              "            buffers.push(buffer);\n",
              "            downloaded += buffer.byteLength;\n",
              "            progress.value = downloaded;\n",
              "          }\n",
              "        }\n",
              "      }\n",
              "      const blob = new Blob(buffers, {type: 'application/binary'});\n",
              "      const a = document.createElement('a');\n",
              "      a.href = window.URL.createObjectURL(blob);\n",
              "      a.download = filename;\n",
              "      div.appendChild(a);\n",
              "      a.click();\n",
              "      div.remove();\n",
              "    }\n",
              "  "
            ]
          },
          "metadata": {}
        },
        {
          "output_type": "display_data",
          "data": {
            "text/plain": [
              "<IPython.core.display.Javascript object>"
            ],
            "application/javascript": [
              "download(\"download_11a4ffb3-dec7-4f69-8c4e-7228c24f2c7a\", \"image_pixels_binary4.txt\", 144)"
            ]
          },
          "metadata": {}
        }
      ],
      "source": [
        "import numpy as np\n",
        "import matplotlib.pyplot as plt\n",
        "from PIL import Image, ImageFilter\n",
        "\n",
        "# יצירת תמונה בגודל 8x8 עם רקע לבן\n",
        "image_size = 4\n",
        "img = np.ones((image_size, image_size), dtype=np.uint8) * 255\n",
        "\n",
        "# ציור עיגול שחור במרכז התמונה\n",
        "center = (image_size // 2, image_size // 2)\n",
        "radius = 1\n",
        "y, x = np.ogrid[:image_size, :image_size]\n",
        "mask = (x - center[0])**2 + (y - center[1])**2 <= radius**2\n",
        "img[mask] = 0\n",
        "\n",
        "# המרת התמונה לבינארי (8 ביטים) אחרי פילטר גאוסיאני\n",
        "img_pil = Image.fromarray(img)\n",
        "img_filtered = img_pil.filter(ImageFilter.GaussianBlur(radius=1))\n",
        "\n",
        "# הצגת התמונה המקורית\n",
        "plt.imshow(img_pil, cmap='gray')\n",
        "plt.title('Original 8x8 Image with Black Circle')\n",
        "plt.axis('off')\n",
        "plt.show()\n",
        "\n",
        "# הצגת התמונה אחרי פילטר גאוסיאני\n",
        "plt.imshow(img_filtered, cmap='gray')\n",
        "plt.title('Image After Gaussian Filter')\n",
        "plt.axis('off')\n",
        "plt.show()\n",
        "\n",
        "# יצירת קובץ פיקסלים לפני הפילטור בצורה בינארית, כל פיקסל בשורה\n",
        "binary_file_path = 'image_pixels_binary4.txt'\n",
        "with open(binary_file_path, 'w') as f:\n",
        "    for row in img:\n",
        "        for pixel in row:\n",
        "            # המרת כל פיקסל (בין 0 ל-255) לפורמט בינארי של 8 ביטים\n",
        "            f.write(f'{pixel:08b}\\n')\n",
        "\n",
        "# הורדה של קובץ הפיקסלים לפני הפילטור בצורה בינארית\n",
        "\n",
        "from google.colab import files\n",
        "files.download(binary_file_path)"
      ]
    },
    {
      "cell_type": "code",
      "source": [
        "\n",
        "\n",
        "hex_string = '8f5f9fdf5f3f7fbf9f7fafdfdfbfdfff'\n",
        "# Step 1: Split the string into pairs of two characters\n",
        "hex_pairs = [hex_string[i:i+2] for i in range(0, len(hex_string), 2)]\n",
        "\n",
        "# Step 2: Reverse the order of the hex pairs\n",
        "reversed_hex_pairs = hex_pairs[::-1]\n",
        "\n",
        "# Step 3: Join the reversed hex pairs back into a single string\n",
        "reversed_hex_string = ''.join(reversed_hex_pairs)\n",
        "\n",
        "# Output the result\n",
        "print(\"Reversed Hex String:\", reversed_hex_string)"
      ],
      "metadata": {
        "colab": {
          "base_uri": "https://localhost:8080/"
        },
        "id": "1Va-rNItkC6u",
        "outputId": "bf81779d-d683-4769-c920-8e604dc63331"
      },
      "execution_count": null,
      "outputs": [
        {
          "output_type": "stream",
          "name": "stdout",
          "text": [
            "Reversed Hex String: ffdfbfdfdfaf7f9fbf7f3f5fdf9f5f8f\n"
          ]
        }
      ]
    },
    {
      "cell_type": "code",
      "source": [
        "import numpy as np\n",
        "import matplotlib.pyplot as plt\n",
        "\n",
        "# Hex string you provided\n",
        "hex_string = 'ffdfbfdfdfaf7f9fbf7f3f5fdf9f5f8f'\n",
        "# Initialize an empty list to store the pixel values\n",
        "pixels = []\n",
        "\n",
        "# Iterate through the hex string in pairs of 2 characters\n",
        "for i in range(0, len(hex_string), 2):\n",
        "    hex_pair = hex_string[i:i+2]  # Take each pair\n",
        "    pixel_value = int(hex_pair, 16)  # Convert the hex pair to decimal (pixel value)\n",
        "    pixels.append(pixel_value)\n",
        "\n",
        "# Convert to a numpy array for easier reshaping\n",
        "pixels = np.array(pixels)\n",
        "print(pixels)\n",
        "# Define the image size, for example 8x8 (64 pixels)\n",
        "image_size = 4\n",
        "\n",
        "# Check if the length of pixels is a multiple of the desired image size\n",
        "pixels = pixels[:image_size * image_size]  # Crop or pad to fit the image size\n",
        "pixels = pixels.reshape((image_size, image_size))  # Reshape into a matrix of the given size\n",
        "\n",
        "# Display the image\n",
        "plt.imshow(pixels, cmap='gray', vmin=0, vmax=255)  # Display in grayscale\n",
        "plt.axis('off')  # Hide axis\n",
        "plt.show()\n"
      ],
      "metadata": {
        "colab": {
          "base_uri": "https://localhost:8080/",
          "height": 423
        },
        "id": "JFDNvZqSkJpW",
        "outputId": "c5e5113e-1598-4dd1-c066-c97615d1d8b4"
      },
      "execution_count": 2,
      "outputs": [
        {
          "output_type": "stream",
          "name": "stdout",
          "text": [
            "[255 223 191 223 223 175 127 159 191 127  63  95 223 159  95 143]\n"
          ]
        },
        {
          "output_type": "display_data",
          "data": {
            "text/plain": [
              "<Figure size 640x480 with 1 Axes>"
            ],
            "image/png": "[encoded data removed]"
          },
          "metadata": {}
        }
      ]
    }
  ]
}